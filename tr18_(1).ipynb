{
  "cells": [
    {
      "cell_type": "code",
      "execution_count": 11,
      "id": "f82482fe",
      "metadata": {
        "id": "f82482fe"
      },
      "outputs": [],
      "source": [
        "import streamlit as st\n",
        "import pickle\n",
        "from sklearn.feature_extraction.text import TfidfVectorizer\n",
        "from PIL import Image\n",
        "import re\n",
        "import string\n",
        "import nltk\n",
        "import spacy\n",
        "\n",
        "with open(\"svm_model.pkl\", \"rb\") as file:\n",
        "    model = pickle.load(file)\n",
        "\n",
        "with open(\"Tfidf_vectorizer.pkl\", \"rb\") as file:\n",
        "    vectorizer = pickle.load(file)\n",
        "\n"
      ]
    },
    {
      "cell_type": "code",
      "source": [
        "nltk.download('stopwords')\n",
        "\n",
        "\n",
        "stopwords = nltk.corpus.stopwords.words('english')\n"
      ],
      "metadata": {
        "colab": {
          "base_uri": "https://localhost:8080/"
        },
        "id": "XiTyaEMXWHdn",
        "outputId": "418d0eb3-33b5-4c53-d0b7-6a44360edfeb"
      },
      "id": "XiTyaEMXWHdn",
      "execution_count": 13,
      "outputs": [
        {
          "output_type": "stream",
          "name": "stderr",
          "text": [
            "[nltk_data] Downloading package stopwords to /root/nltk_data...\n",
            "[nltk_data]   Package stopwords is already up-to-date!\n"
          ]
        }
      ]
    },
    {
      "cell_type": "code",
      "source": [],
      "metadata": {
        "id": "3v0C7-2gYd10"
      },
      "id": "3v0C7-2gYd10",
      "execution_count": 6,
      "outputs": []
    },
    {
      "cell_type": "code",
      "source": [
        "def clean_text(text):\n",
        "    text = text.lower()\n",
        "    return text.strip()\n",
        "\n",
        "def remove_punctuation(text):\n",
        "    punctuation_free = \"\".join([i for i in text if i not in string.punctuation])\n",
        "    return punctuation_free\n",
        "\n",
        "def tokenization(text):\n",
        "    tokens = re.split(' ', text)\n",
        "    return tokens\n",
        "\n",
        "def remove_stopwords(text):\n",
        "    output = \" \".join(i for i in text if i not in stopwords)\n",
        "    return output\n",
        "\n",
        "def lemmatizer(text):\n",
        "    nlp = spacy.load('en_core_web_sm')\n",
        "    doc = nlp(text)\n",
        "    sent = [token.lemma_ for token in doc if not token.text in set(stopwords)]\n",
        "    return ' '.join(sent)\n",
        "\n",
        "st.title(\"Sentiment Analysis App\")\n",
        "st.markdown(\"Nikita Turumella\")\n",
        "image = Image.open(\"sentiment.jpeg\")\n",
        "st.image(image, use_column_width=True)\n"
      ],
      "metadata": {
        "colab": {
          "base_uri": "https://localhost:8080/"
        },
        "id": "TmhP7jL0Ybwu",
        "outputId": "04ac249a-62c8-4580-d4d4-fc4325f97277"
      },
      "id": "TmhP7jL0Ybwu",
      "execution_count": 8,
      "outputs": [
        {
          "output_type": "execute_result",
          "data": {
            "text/plain": [
              "DeltaGenerator()"
            ]
          },
          "metadata": {},
          "execution_count": 8
        }
      ]
    },
    {
      "cell_type": "code",
      "source": [
        "st.subheader(\"Enter your text here:\")\n",
        "user_input = st.text_area(\"\")"
      ],
      "metadata": {
        "colab": {
          "base_uri": "https://localhost:8080/"
        },
        "id": "z1hx_FOeZOXV",
        "outputId": "3bf33ae4-e996-467f-bd48-e3f56c43cd51"
      },
      "id": "z1hx_FOeZOXV",
      "execution_count": 9,
      "outputs": [
        {
          "output_type": "stream",
          "name": "stderr",
          "text": [
            "2023-09-09 05:33:27.824 `label` got an empty value. This is discouraged for accessibility reasons and may be disallowed in the future by raising an exception. Please provide a non-empty label and hide it with label_visibility if needed.\n"
          ]
        }
      ]
    },
    {
      "cell_type": "code",
      "source": [
        "\n",
        "\n",
        "if user_input:\n",
        "    user_input = clean_text(user_input)\n",
        "    user_input = remove_punctuation(user_input)\n",
        "    user_input = user_input.lower()\n",
        "    user_input = tokenization(user_input)\n",
        "    user_input = remove_stopwords(user_input)\n",
        "    user_input = lemmatizer(user_input)\n",
        "\n",
        "if st.button(\"Predict\"):\n",
        "    if user_input:\n",
        "        text_vectorized = vectorizer.transform([user_input])\n",
        "        prediction = model.predict(text_vectorized)[0]\n",
        "        st.header(\"Prediction:\")\n",
        "        if prediction == -1:\n",
        "            st.subheader(\"The sentiment of the given text is: Negative\")\n",
        "        elif prediction == 0:\n",
        "            st.subheader(\"The sentiment of the given text is: Neutral\")\n",
        "        elif prediction == 1:\n",
        "            st.subheader(\"The sentiment of the given text is: Positive\")\n",
        "    else:\n",
        "        st.subheader(\"Please enter a text for prediction.\")"
      ],
      "metadata": {
        "id": "oNrQT_gbZPxc"
      },
      "id": "oNrQT_gbZPxc",
      "execution_count": 10,
      "outputs": []
    }
  ],
  "metadata": {
    "kernelspec": {
      "display_name": "Python 3 (ipykernel)",
      "language": "python",
      "name": "python3"
    },
    "language_info": {
      "codemirror_mode": {
        "name": "ipython",
        "version": 3
      },
      "file_extension": ".py",
      "mimetype": "text/x-python",
      "name": "python",
      "nbconvert_exporter": "python",
      "pygments_lexer": "ipython3",
      "version": "3.8.4"
    },
    "colab": {
      "provenance": []
    }
  },
  "nbformat": 4,
  "nbformat_minor": 5
}